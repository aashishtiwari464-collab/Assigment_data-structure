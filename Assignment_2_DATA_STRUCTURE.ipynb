{
  "nbformat": 4,
  "nbformat_minor": 0,
  "metadata": {
    "colab": {
      "provenance": []
    },
    "kernelspec": {
      "name": "python3",
      "display_name": "Python 3"
    },
    "language_info": {
      "name": "python"
    }
  },
  "cells": [
    {
      "cell_type": "markdown",
      "source": [
        "## **Theory**\n",
        "---\n",
        "\n",
        "Q1. What are data structure and why they important ?**\n",
        "---\n",
        "= Data structures are the data container whose store the data for organizing,\n",
        "  and managing data in computer, which are essential for creating data to use easier. They provide various ways to access and manipulate the data according the specific needs.\n",
        "\n",
        "---\n",
        "\n",
        "Q2. Explain the difference between mutable and immutable data type with examples.\n",
        "---\n",
        "\n",
        "=    Mutable data types\n",
        "\n",
        "*   Can be modified after the creation.\n",
        "*   we can change, add , remove the elements.\n",
        "\n",
        "Example :  list - we  can add remove or modify items.\n",
        "           Dictonary - We can update keys and values.\n",
        "\n",
        "list = [1,2,3,4]:\n",
        "\n",
        "list.append(5)\n",
        "\n",
        "list[0] = 10\n",
        "\n",
        "print(list)# output is : [10,2,3,4,5]\n",
        "\n",
        "=   Immutable data types are\n",
        "\n",
        "*   cannot be modified after the ceation ,\n",
        "*   For modification we make a new copy of the element.\n",
        "\n",
        "Example : Strings, Tuple, boolen, integer, float - we cannot modified the data after creation\n",
        "          \n",
        "my = \"AASHISH\"\n",
        "\n",
        "new = \"Mr. \" + my.title()\n",
        "\n",
        "full = new + \" Tiwari\"\n",
        "\n",
        "print(new)\n",
        "\n",
        "print(full)\n",
        "\n",
        "\n",
        "---\n",
        "\n",
        "Q3. What is the main difference between list and tuples in python ?\n",
        "---\n",
        "=>  some main difference are as follow ✅\n",
        "\n",
        "*  Mutability       : list are mutable and tuple are immutable .\n",
        "*  Syntax           : define as : list ▶ [] and tuple ▶ ()\n",
        "*  Method available :\n",
        "\n",
        "List have many methods =  .append(), .remove(), .sort(), reverse(), etc.\n",
        "Tuple have some methods = .count(), index()\n",
        "\n",
        "---\n",
        "Q4. Describe how dictionaries store data ?\n",
        "---\n",
        "*  Dictionaries are store in the form of key and value .\n",
        "*  They were every keys are unique.\n",
        "*  It wil using hashtable to store and find data more quickly .\n",
        "*  A hash function is applied to the key to find where the value is store\n",
        "*  Only hashable data types like strings, numbers, tuple can be used as keys.\n",
        "*  Value are not be the keys\n",
        "\n",
        "\n",
        "dict = {\n",
        "  1 : \"aashish\",\n",
        "  \"skills\" : \"pw\"\n",
        "}\n",
        "\n",
        "\n",
        "print(dict)# full dictionaries\n",
        "print(dict[1])# 1 is key and \"aashish\" is value.\n",
        "print(dict['skills'])# \"skills\" is key and \"pw\" is value.\n",
        "print(dict[\"pw\"])# shows error\n",
        "\n",
        "\n",
        "---\n",
        "\n",
        "Q5. Why use a set instead of a list in python ?\n",
        "---\n",
        "\n",
        "=> Here are some reasons   **⬇**\n",
        "\n",
        "*  Sets are store a unique elements so no more duplicate items.\n",
        "*  set allows operations like union, intersection, and difference\n",
        "*  Sets are better when we dont want the order because list are in order\n",
        "\n",
        "lisst = [1,2,3,2,1,3,2]\n",
        "\n",
        "print(lisst)# output is [1,2,3,2,1,3,2]\n",
        "\n",
        "sett = {1,2,3,2,1,3,2}\n",
        "\n",
        "print(sett)# output is {1,2,3}\n",
        "\n",
        "\n",
        "----\n",
        "\n",
        "Q6. What is a string in python , and how is it different from a list ?\n",
        "---\n",
        "\n",
        "=>   A string in python is an immutable sequence of characters. It's used for storing the data and manupulating . we can not change the data of strings   because strings are immutable we should create a new string for changes and we should converting this as uppercase, lowercase and more.\n",
        "\n",
        "*  A string is a sequence of characters.\n",
        "*  It is written inside single quotes ' ', double quotes \" \", or triple quotes ''' '''.\n",
        "\n",
        "\n",
        "s = \"aashish tiwari\"\n",
        "\n",
        "**defination ⏬**\n",
        "\n",
        "*  strings are sequence of characters\n",
        "*  list are sequence of elements(numbers, strings, etc)\n",
        "\n",
        "**mutability**\n",
        "\n",
        "*  strings are immutable\n",
        "*  list are mutable\n",
        "\n",
        "**Data type**\n",
        "\n",
        "*  strings are only store charactor\n",
        "*  list can store different data types\n",
        "\n",
        "**Modification**\n",
        "\n",
        "*  Strings are need a new strings to be modification\n",
        "*  list can directly modify the elements\n",
        "\n",
        "\n",
        "\n",
        "i = [\"jai\",\"shree\",\"ram\"]\n",
        "\n",
        "i[2] = \"krishna\"\n",
        "\n",
        "print(i)# ram is now krishna\n",
        "\n",
        "\n",
        "i = \"jai shr  ram\"\n",
        "\n",
        "i[7] = i\n",
        "\n",
        "print(i)# error\n",
        "\n",
        "---\n",
        "\n",
        "Q7. How do tuples ensure data integrity in Python?\n",
        "---\n",
        "*  Tuple in data python are in ordered collection and it is Inmutable.\n",
        "*  Immutable mean a data or a element in the data were not getting modified and change\n",
        "*  Thus the data is not get change it may be more safe than other\n",
        "\n",
        "e. g. :-  \n",
        "data = (1,\"aashish\",0.9,True,1+2j)\n",
        "\n",
        "print(data)\n",
        "\n",
        "data[1] = \"pw\"\n",
        "\n",
        "print(data)# it may shows the error because the tuple are immutable\n",
        "\n",
        "---\n",
        "Q8. What is a hash table, and how does it relate to dictionaries in Python?\n",
        "---\n",
        "hash table are the pair of key and table : -   \n",
        "*   A hash table is a data structure that stores key-value pairs.\n",
        "\n",
        "relation with dictionaries in python :-   \n",
        "*  dictionary (dict) will be implemented using hash table .\n",
        "*  hash table is dicide the key and the value which is store in hash table for (dict)\n",
        "*  corresponding values for keys and values are store in hashtable.\n",
        "*  the keys are never be changed its are immutable like (strings tuple numbers)\n",
        "*  hashtable is used internally in the dictionary\n",
        "\n",
        "student = {\"name\": \"aashish\", \"age\": 21, \"city\": \"Indore\"}\n",
        "\n",
        "print(student[\"name\"])   # aashish\n",
        "\n",
        "\n",
        "student[\"course\"] = \"Data analyst\"\n",
        "\n",
        "print(student)# output {\"name\": \"aashish\",\"course\": \"Data analyst\", \"age\": 21, \"city\": \"Indore\"}\n",
        "\n",
        "---\n",
        "Q9. Can lists contain different data types in Python?\n",
        "---\n",
        "yes the list will contain different types of data types\n",
        "*  list may store different data elements such are integers, floats, strings, booleans, other lists,  objects\n",
        "\n",
        "e.g. ▶ lis = [lis = [\"aashish\",9,9.0,True]\n",
        "        \n",
        "        print(lis)# output is [\"aashish\",9,9.0,True]\n",
        "\n",
        "---\n",
        "Q10. Explain why strings are immutable in Python.\n",
        "---\n",
        "*  once a string is created, it cannot be changed.\n",
        "*  any changes or operation of modifing in the list is not occour such as replace, remove, add and etc. the changing we should create a new string at that place\n",
        "*  Strings are often used as keys in dictionaries. Keys must not change\n",
        "*  strings are immutable so that were protect the data from accidental changes\n",
        "\n",
        "e.g. ✅\n",
        "\n",
        "s = \"Aashish\"\n",
        "s[0] = a # error\n",
        "s.append(\" tiwari\")# error\n",
        "\n",
        "---\n",
        "Q11. What advantages do dictionaries offer over lists for certain tasks?\n",
        "---\n",
        "*  lists, dictionaries store data as key-value pairs, which makes data easier to organize\n",
        "*  We can access data by its key, not by position\n",
        "*  Each key is unique, preventing duplicate entries for the same key\n",
        "\n",
        "Using a list\n",
        "student_list = [\"Ankit\", 21, \"Indore\"]\n",
        "print(student_list[0])   # Need to remember index\n",
        "\n",
        "Using a dictionary\n",
        "student_dict = {\"name\": \"Ankit\", \"age\": 21, \"city\": \"Indore\"}\n",
        "print(student_dict[\"name\"])  # Directly access by key (clearer & faster)\n",
        "\n",
        "---\n",
        "Q12. Describe a scenario where using a tuple would be preferable over a list.\n",
        "---\n",
        "*  A tuple is immutable (cannot be changed after creation).\n",
        "\n",
        "*  This makes it useful when you want to store fixed data that should not be modified accidentally\n",
        "*  some example like the week days, employ id, student id , and other that we want to store in immutable state\n",
        "\n",
        "e.g.\n",
        "\n",
        "week_days are\n",
        "week = (\"Mon\", \"Tue\", \"Wed\", \"Thu\", \"Fri\", \"Sat\", \"Sun\")\n",
        "\n",
        "week[0] = \"sun\"   # ❌ Error ✈\n",
        "\n",
        "print(week)   # (\"Mon\", \"Tue\", \"Wed\", \"Thu\", \"Fri\", \"Sat\", \"Sun\")\n",
        "\n",
        "---\n",
        "Q13. How do sets handle duplicate values in Python ?\n",
        "---\n",
        "\n",
        "*  Sets automatically remove duplicates in Python.\n",
        "\n",
        "*  When you create a set, if it has repeated elements, Python will only keep one copy of each unique element.\n",
        "\n",
        "e.g. set = {1,2,3,3,4,4,5,6,7,2,3,4}\n",
        "     print(set)# output is {1,2,3,4,5,6,7}\n",
        "\n",
        "---\n",
        "Q14. How does the “in” keyword work differently for lists and dictionaries ?\n",
        "---\n",
        "\n",
        "*  In lists, the in keyword checks if a value exists as an element.\n",
        "\n",
        "*  In dictionaries, the in keyword checks if a key exists .\n",
        "\n",
        "e.g. = list Example\n",
        "\n",
        "nums = [1, 2, 3, 4]\n",
        "\n",
        "print(2 in nums)     # True\n",
        "\n",
        "print(5 in nums)     # False\n",
        "\n",
        "\n",
        "student = {\"name\": \"Ankit\", \"age\": 21}\n",
        "\n",
        "print(\"name\" in student)   # True\n",
        "\n",
        "print(\"Ankit\" in student)  # False\n",
        "\n",
        "---\n",
        "Q15. Can you modify the elements of a tuple? Explain why or why not.\n",
        "---\n",
        "*  We cannot modify the elements of a tuple.\n",
        "\n",
        "*  Tuples are immutable, which means once a tuple is created, its elements cannot be changed, added, or removed.\n",
        "\n",
        "e. g.    Tuple Example\n",
        "\n",
        "colors = (\"red\", \"green\", \"blue\")\n",
        "\n",
        "print(colors[1])   # green\n",
        "\n",
        "colors[1] = \"yellow\" # error ⛔\n",
        "\n",
        "---\n",
        "Q16. What is a nested dictionary, and give an example of its use case ?\n",
        "---\n",
        "*  A nested dictionary is a dictionary inside another dictionary.\n",
        "*  the inside nested key is were store the own dictionaty (key and value).\n",
        "\n",
        "e.g.\n",
        "\n",
        "students = {\n",
        "  \n",
        "  101 : {\"name\":\"aashish\",\"course\":\"data analyst\",\"institute\":\"pw skills\"},\n",
        "  102 : \"ankit\"\n",
        "}\n",
        "\n",
        "print(students[101][\"name\"])   # aashish\n",
        "\n",
        "print(students[102])   #  Ankit\n",
        "\n",
        "---\n",
        "Q17. Describe the time complexity of accessing elements in a dictionary.\n",
        "---\n",
        "*  Dictionaries are implemented using hash tables.\n",
        "*  Accessing elements by key takes O(1) time\n",
        "\n",
        "---\n",
        "Q18. In what situations are lists preferred over dictionaries?\n",
        "---\n",
        "*  Lists maintain order (first element, last element, etc.).\n",
        "*  Lists can store the same value multiple times.\n",
        "*  if we dont want or  need key value pairs\n",
        "*  if indexing is necessary\n",
        "---\n",
        "Q19. Why are dictionaries considered unordered, and how does that affect data retrieval?\n",
        "---\n",
        "= dictionaries are considered as unorderd because it will store the data in hash table not be store list type indexing so we are not get the order of the dictionary according the indexing.\n",
        "\n",
        "*  We must used the keys pair to get the data\n",
        "\n",
        "*  We can not get the index at dictionary\n",
        "---\n",
        "Q20. Explain the difference between a list and a dictionary in terms of data retrieval.\n",
        "---\n",
        "LIST in terms of data retrieval =>\n",
        "\n",
        "*  data is retriev by index\n",
        "*  order sequence for elements.\n",
        "\n",
        "print(lis[0]) # aashish\n",
        "\n",
        "dict in terms of data retrieval =>\n",
        "\n",
        "*  data is in hash table in the form of key and value\n",
        "*  data is retrive by key\n",
        "\n",
        "print(dic[\"name\"]) # aashish\n",
        "\n",
        "\n",
        "\n",
        "---"
      ],
      "metadata": {
        "id": "72hWKRqaYeot"
      }
    },
    {
      "cell_type": "markdown",
      "source": [
        "## **PRACTICAL QUESTION**"
      ],
      "metadata": {
        "id": "Ni-jRyuloQXe"
      }
    },
    {
      "cell_type": "code",
      "source": [
        "# Q1.  Write a code to create a string with your name and print it.\n",
        "\n",
        "name = \"PW SKILLS\"\n",
        "\n",
        "print(name)"
      ],
      "metadata": {
        "id": "ASbYbUrPBqEH",
        "colab": {
          "base_uri": "https://localhost:8080/"
        },
        "outputId": "ac55f683-d6f6-4f7c-b1a4-087ae44e2171"
      },
      "execution_count": 1,
      "outputs": [
        {
          "output_type": "stream",
          "name": "stdout",
          "text": [
            "PW SKILLS\n"
          ]
        }
      ]
    },
    {
      "cell_type": "code",
      "source": [
        "#Q2. Write a code to find the length of the string \"Hello World\".\n",
        "\n",
        "string = \"Hello World\"\n",
        "\n",
        "print(len(string))"
      ],
      "metadata": {
        "colab": {
          "base_uri": "https://localhost:8080/"
        },
        "id": "z9N_QtuGsRaj",
        "outputId": "7fd85115-63ff-4bb7-b98f-90ad6e788cdf"
      },
      "execution_count": 2,
      "outputs": [
        {
          "output_type": "stream",
          "name": "stdout",
          "text": [
            "11\n"
          ]
        }
      ]
    },
    {
      "cell_type": "code",
      "source": [
        "#Q3. Write a code to slice the first 3 characters from the string \"Python Programming\".\n",
        "\n",
        "string = \"Python Programming\"\n",
        "\n",
        "print(string[0:3])"
      ],
      "metadata": {
        "colab": {
          "base_uri": "https://localhost:8080/"
        },
        "id": "lM97lE-tsq-N",
        "outputId": "3b30ba53-7772-4da4-ced9-83d4545b2d4a"
      },
      "execution_count": 3,
      "outputs": [
        {
          "output_type": "stream",
          "name": "stdout",
          "text": [
            "Pyt\n"
          ]
        }
      ]
    },
    {
      "cell_type": "code",
      "source": [
        "#Q4. Write a code to convert the string \"hello\" to uppercase.\n",
        "\n",
        "string = \"hello\"\n",
        "\n",
        "print(string.upper())"
      ],
      "metadata": {
        "colab": {
          "base_uri": "https://localhost:8080/"
        },
        "id": "weHh7gX1wryz",
        "outputId": "1f4becb3-00fe-4aa7-98d5-f3215f05527c"
      },
      "execution_count": 4,
      "outputs": [
        {
          "output_type": "stream",
          "name": "stdout",
          "text": [
            "HELLO\n"
          ]
        }
      ]
    },
    {
      "cell_type": "code",
      "source": [
        "#Q5. Write a code to replace the word \"apple\" with \"orange\" in the string \"I like apple\".\n",
        "\n",
        "string = \"I like apple\"\n",
        "\n",
        "print(string.replace(\"apple\",\"orange\"))"
      ],
      "metadata": {
        "colab": {
          "base_uri": "https://localhost:8080/"
        },
        "id": "-elOTuKyw31d",
        "outputId": "f57b1235-b7a9-4aaf-95a0-d171df47b0be"
      },
      "execution_count": 5,
      "outputs": [
        {
          "output_type": "stream",
          "name": "stdout",
          "text": [
            "I like orange\n"
          ]
        }
      ]
    },
    {
      "cell_type": "code",
      "source": [
        "#Q6. Write a code to create a list with numbers 1 to 5 and print it.\n",
        "\n",
        "list = [1,2,3,4,5]\n",
        "\n",
        "print(list)\n"
      ],
      "metadata": {
        "colab": {
          "base_uri": "https://localhost:8080/"
        },
        "id": "ovpt1_5FxHWm",
        "outputId": "35c7e5d3-b755-4e0f-c261-122197829543"
      },
      "execution_count": 11,
      "outputs": [
        {
          "output_type": "stream",
          "name": "stdout",
          "text": [
            "[1, 2, 3, 4, 5]\n",
            "[1] [2] [3] [4] "
          ]
        }
      ]
    },
    {
      "cell_type": "code",
      "source": [
        "#Q7. Write a code to append the number 10 to the list [1, 2, 3, 4].\n",
        "\n",
        "list = [1,2,3,4]\n",
        "\n",
        "list.append(10)\n",
        "\n",
        "print(list)"
      ],
      "metadata": {
        "colab": {
          "base_uri": "https://localhost:8080/"
        },
        "id": "YghmQ8LHxeue",
        "outputId": "3a1f5fd3-b011-4d79-d2e5-7426a0509aae"
      },
      "execution_count": 12,
      "outputs": [
        {
          "output_type": "stream",
          "name": "stdout",
          "text": [
            "[1, 2, 3, 4, 10]\n"
          ]
        }
      ]
    },
    {
      "cell_type": "code",
      "source": [
        "#Q8. Write a code to remove the number 3 from the list [1, 2, 3, 4, 5].\n",
        "\n",
        "list = [1,2,3,4,5]\n",
        "\n",
        "list.remove(3)\n",
        "\n",
        "print(list)"
      ],
      "metadata": {
        "colab": {
          "base_uri": "https://localhost:8080/"
        },
        "id": "DpB_lznQyS1-",
        "outputId": "76567d79-e511-4599-a814-e9ee9cc8c5e0"
      },
      "execution_count": 13,
      "outputs": [
        {
          "output_type": "stream",
          "name": "stdout",
          "text": [
            "[1, 2, 4, 5]\n"
          ]
        }
      ]
    },
    {
      "cell_type": "code",
      "source": [
        "#Q9. Write a code to access the second element in the list ['a', 'b', 'c', 'd'].\n",
        "\n",
        "list = ['a', 'b', 'c', 'd']\n",
        "\n",
        "print(list[1])"
      ],
      "metadata": {
        "colab": {
          "base_uri": "https://localhost:8080/"
        },
        "id": "eSy2Jq5vyfE9",
        "outputId": "21b3fe4c-8a46-4a06-9909-61f4edbd82f9"
      },
      "execution_count": 14,
      "outputs": [
        {
          "output_type": "stream",
          "name": "stdout",
          "text": [
            "b\n"
          ]
        }
      ]
    },
    {
      "cell_type": "code",
      "source": [
        "#Q10. Write a code to reverse the list [10, 20, 30, 40, 50].\n",
        "\n",
        "lis = [10, 20, 30, 40, 50]\n",
        "lis.reverse()\n",
        "print(lis)"
      ],
      "metadata": {
        "colab": {
          "base_uri": "https://localhost:8080/"
        },
        "id": "ccQBR0feyuDt",
        "outputId": "08c32621-adfb-4d88-a62a-3f9f3ac5d67a"
      },
      "execution_count": 18,
      "outputs": [
        {
          "output_type": "stream",
          "name": "stdout",
          "text": [
            "[50, 40, 30, 20, 10]\n"
          ]
        }
      ]
    },
    {
      "cell_type": "code",
      "source": [
        "# Q11. Write a code to create a tuple with the elements 100, 200, 300 and print it.\n",
        "\n",
        "tupl = (100,200,300)\n",
        "\n",
        "print(tupl)"
      ],
      "metadata": {
        "colab": {
          "base_uri": "https://localhost:8080/"
        },
        "id": "RZyKtkCOzFjV",
        "outputId": "c37a02a9-60c0-477f-b825-3cf98495ab77"
      },
      "execution_count": 19,
      "outputs": [
        {
          "output_type": "stream",
          "name": "stdout",
          "text": [
            "(100, 200, 300)\n"
          ]
        }
      ]
    },
    {
      "cell_type": "code",
      "source": [
        "#Q12. Write a code to access the second-to-last element of the tuple ('red', 'green', 'blue', 'yellow').\n",
        "\n",
        "tupl = ('red', 'green', 'blue', 'yellow')\n",
        "\n",
        "print(tupl[-2])"
      ],
      "metadata": {
        "colab": {
          "base_uri": "https://localhost:8080/"
        },
        "id": "nSirwY_rzjbO",
        "outputId": "0ab2acbc-4b30-454d-d395-84e1bb99550a"
      },
      "execution_count": 20,
      "outputs": [
        {
          "output_type": "stream",
          "name": "stdout",
          "text": [
            "blue\n"
          ]
        }
      ]
    },
    {
      "cell_type": "code",
      "source": [
        "#Q13. Write a code to find the minimum number in the tuple (10, 20, 5, 15).\n",
        "\n",
        "tupl = (10, 20, 5, 15)\n",
        "\n",
        "print(min(tupl))"
      ],
      "metadata": {
        "colab": {
          "base_uri": "https://localhost:8080/"
        },
        "id": "Kf6dcdZSz6CO",
        "outputId": "d1f8d55a-2190-4e54-f245-080b9e895113"
      },
      "execution_count": 21,
      "outputs": [
        {
          "output_type": "stream",
          "name": "stdout",
          "text": [
            "5\n"
          ]
        }
      ]
    },
    {
      "cell_type": "code",
      "source": [
        "#Q14. Write a code to find the index of the element \"cat\" in the tuple ('dog', 'cat', 'rabbit').\n",
        "\n",
        "animals = ('dog', 'cat', 'rabbit')\n",
        "\n",
        "print(animals.index(\"cat\"))"
      ],
      "metadata": {
        "colab": {
          "base_uri": "https://localhost:8080/"
        },
        "id": "bbUfMwPG0IHO",
        "outputId": "892fe8c2-38bb-4bba-ccac-a912fb3e60ee"
      },
      "execution_count": 22,
      "outputs": [
        {
          "output_type": "stream",
          "name": "stdout",
          "text": [
            "1\n"
          ]
        }
      ]
    },
    {
      "cell_type": "code",
      "source": [
        "#Q15. Write a code to create a tuple containing three different fruits and check if \"kiwi\" is in it.\n",
        "\n",
        "fruits = (\"kiwi\", \"banana\", \"orange\")\n",
        "\n",
        "print(\"kiwi\" in fruits)"
      ],
      "metadata": {
        "colab": {
          "base_uri": "https://localhost:8080/"
        },
        "id": "vLKRIPt40cr9",
        "outputId": "7dac7cd6-76f7-416e-a4b3-fdfa67a0b96c"
      },
      "execution_count": 24,
      "outputs": [
        {
          "output_type": "stream",
          "name": "stdout",
          "text": [
            "True\n"
          ]
        }
      ]
    },
    {
      "cell_type": "code",
      "source": [
        "#Q16. Write a code to create a set with the elements 'a', 'b', 'c' and print it.\n",
        "\n",
        "sets = {\"a\",\"b\",\"c\"}\n",
        "\n",
        "print(sets)"
      ],
      "metadata": {
        "colab": {
          "base_uri": "https://localhost:8080/"
        },
        "id": "pUSFE9Vj0yDO",
        "outputId": "6d4bae76-3a25-4ffa-9d3b-2c93fa279830"
      },
      "execution_count": 29,
      "outputs": [
        {
          "output_type": "stream",
          "name": "stdout",
          "text": [
            "{'b', 'c', 'a'}\n"
          ]
        }
      ]
    },
    {
      "cell_type": "code",
      "source": [
        "#Q17. Write a code to clear all elements from the set {1, 2, 3, 4, 5}.\n",
        "\n",
        "sets = {1,2,3,4,5}\n",
        "sets.clear()\n",
        "print(sets)"
      ],
      "metadata": {
        "colab": {
          "base_uri": "https://localhost:8080/"
        },
        "id": "ZNhzgaiQ1E9V",
        "outputId": "730073de-4e59-4b8a-d546-2585702c96e9"
      },
      "execution_count": 31,
      "outputs": [
        {
          "output_type": "stream",
          "name": "stdout",
          "text": [
            "set()\n"
          ]
        }
      ]
    },
    {
      "cell_type": "code",
      "source": [
        "#Q18. Write a code to remove the element 4 from the set {1, 2, 3, 4}.\n",
        "\n",
        "sets = {1,2,3,4}\n",
        "sets.remove(4)\n",
        "print(sets)"
      ],
      "metadata": {
        "colab": {
          "base_uri": "https://localhost:8080/"
        },
        "id": "biQhrdi_1rrX",
        "outputId": "66d656b6-c99e-42cc-f8c3-271574302afb"
      },
      "execution_count": 32,
      "outputs": [
        {
          "output_type": "stream",
          "name": "stdout",
          "text": [
            "{1, 2, 3}\n"
          ]
        }
      ]
    },
    {
      "cell_type": "code",
      "source": [
        "#Q19. Write a code to find the union of two sets {1, 2, 3} and {3, 4, 5}.\n",
        "\n",
        "set1 = {1,2,3}\n",
        "set2 = {3,4,5}\n",
        "\n",
        "print(set1.union(set2))"
      ],
      "metadata": {
        "colab": {
          "base_uri": "https://localhost:8080/"
        },
        "id": "uqkwX5X_1---",
        "outputId": "ab8f7adf-ca22-45bc-eb1a-0431be0ff805"
      },
      "execution_count": 33,
      "outputs": [
        {
          "output_type": "stream",
          "name": "stdout",
          "text": [
            "{1, 2, 3, 4, 5}\n"
          ]
        }
      ]
    },
    {
      "cell_type": "code",
      "source": [
        "#Q20. Write a code to find the intersection of two sets {1, 2, 3} and {2, 3, 4}.\n",
        "\n",
        "set1 = {1,2,3}\n",
        "set2 = {2,3,4}\n",
        "\n",
        "print(set1.intersection(set2))"
      ],
      "metadata": {
        "colab": {
          "base_uri": "https://localhost:8080/"
        },
        "id": "_1ZrpcTs2R7H",
        "outputId": "b0baf15a-0b38-4337-8bc6-bfe3772fefb5"
      },
      "execution_count": 34,
      "outputs": [
        {
          "output_type": "stream",
          "name": "stdout",
          "text": [
            "{2, 3}\n"
          ]
        }
      ]
    },
    {
      "cell_type": "code",
      "source": [
        "#Q21. Write a code to create a dictionary with the keys \"name\", \"age\", and \"city\", and print it.\n",
        "\n",
        "dic = {\"name\":\"aashish\",\"age\":21,\"city\":\"indore\"}\n",
        "\n",
        "print(dic)"
      ],
      "metadata": {
        "colab": {
          "base_uri": "https://localhost:8080/"
        },
        "id": "5p6mzX_S2jd9",
        "outputId": "e2c1cf1d-fe12-4c15-a2db-aa4aab602845"
      },
      "execution_count": 35,
      "outputs": [
        {
          "output_type": "stream",
          "name": "stdout",
          "text": [
            "{'name': 'aashish', 'age': 21, 'city': 'indore'}\n"
          ]
        }
      ]
    },
    {
      "cell_type": "code",
      "source": [
        "#Q22. Write a code to add a new key-value pair \"country\": \"USA\" to the dictionary {'name': 'John', 'age': 25}.\n",
        "\n",
        "dic = {'name': 'John', 'age': 25}\n",
        "\n",
        "dic[\"country\"] = \"USA\"\n",
        "\n",
        "print(dic)"
      ],
      "metadata": {
        "colab": {
          "base_uri": "https://localhost:8080/"
        },
        "id": "NjtCtKy22x32",
        "outputId": "2636a96a-8333-4098-9430-bac8940d3302"
      },
      "execution_count": 36,
      "outputs": [
        {
          "output_type": "stream",
          "name": "stdout",
          "text": [
            "{'name': 'John', 'age': 25, 'country': 'USA'}\n"
          ]
        }
      ]
    },
    {
      "cell_type": "code",
      "source": [
        "#Q23. Write a code to access the value associated with the key \"name\" in the dictionary {'name': 'Alice', 'age': 30}.\n",
        "\n",
        "dic = {'name': 'Alice', 'age': 30}\n",
        "\n",
        "print(dic[\"name\"])"
      ],
      "metadata": {
        "colab": {
          "base_uri": "https://localhost:8080/"
        },
        "id": "1VM6wSw_3E6V",
        "outputId": "5a64967a-c47c-4d3f-d720-b727abd7c2de"
      },
      "execution_count": 38,
      "outputs": [
        {
          "output_type": "stream",
          "name": "stdout",
          "text": [
            "Alice\n"
          ]
        }
      ]
    },
    {
      "cell_type": "code",
      "source": [
        "#Q24. Write a code to remove the key \"age\" from the dictionary {'name': 'Bob', 'age': 22, 'city': 'New York'}.\n",
        "\n",
        "dic = {'name': 'Bob', 'age': 22, 'city': 'New York'}\n",
        "\n",
        "del dic[\"age\"]\n",
        "\n",
        "print(dic)\n",
        "\n",
        "dic = {'name': 'Bob', 'age': 22, 'city': 'New York'}\n",
        "\n",
        "dic.pop(\"age\")\n",
        "\n",
        "print(dic)"
      ],
      "metadata": {
        "colab": {
          "base_uri": "https://localhost:8080/"
        },
        "id": "DOyPb0V63fdX",
        "outputId": "3b58846a-4342-4b86-bf0d-207f4a5348fc"
      },
      "execution_count": 43,
      "outputs": [
        {
          "output_type": "stream",
          "name": "stdout",
          "text": [
            "{'name': 'Bob', 'city': 'New York'}\n",
            "{'name': 'Bob', 'city': 'New York'}\n"
          ]
        }
      ]
    },
    {
      "cell_type": "code",
      "source": [
        "#Q25. Write a code to check if the key \"city\" exists in the dictionary {'name': 'Alice', 'city': 'Paris'}.\n",
        "\n",
        "dic = {'name': 'Alice', 'city': 'Paris'}\n",
        "\n",
        "print(\"city\" in dic)"
      ],
      "metadata": {
        "colab": {
          "base_uri": "https://localhost:8080/"
        },
        "id": "AggzaTSc3sre",
        "outputId": "8a1327f0-0031-4c49-fef7-794f67869b5a"
      },
      "execution_count": 44,
      "outputs": [
        {
          "output_type": "stream",
          "name": "stdout",
          "text": [
            "True\n"
          ]
        }
      ]
    },
    {
      "cell_type": "code",
      "source": [
        "#Q26. Write a code to create a list, a tuple, and a dictionary, and print them all.\n",
        "\n",
        "l = [1,2,3,4,5]\n",
        "t = (1,2,3,4,5)\n",
        "d = {\"name\":\"aashish\",\"age\":21,\"city\":\"indore\"}\n",
        "\n",
        "print(l)\n",
        "print(t)\n",
        "print(d)\n"
      ],
      "metadata": {
        "colab": {
          "base_uri": "https://localhost:8080/"
        },
        "id": "i-qsjedd4Qjv",
        "outputId": "47ecce07-cd07-40e4-b25a-45237dbb39ee"
      },
      "execution_count": 45,
      "outputs": [
        {
          "output_type": "stream",
          "name": "stdout",
          "text": [
            "[1, 2, 3, 4, 5]\n",
            "(1, 2, 3, 4, 5)\n",
            "{'name': 'aashish', 'age': 21, 'city': 'indore'}\n"
          ]
        }
      ]
    },
    {
      "cell_type": "code",
      "source": [
        "#Q27. Write a code to create a list of 5 random numbers between 1 and 100, sort it in ascending order, and print the result.\n",
        "\n",
        "l = [4,3,6,7,5]\n",
        "\n",
        "l.sort()\n",
        "\n",
        "print(l)"
      ],
      "metadata": {
        "colab": {
          "base_uri": "https://localhost:8080/"
        },
        "id": "hssbFH4P4pEt",
        "outputId": "b23f0854-4eb4-42e5-892b-46d0199efa76"
      },
      "execution_count": 46,
      "outputs": [
        {
          "output_type": "stream",
          "name": "stdout",
          "text": [
            "[3, 4, 5, 6, 7]\n"
          ]
        }
      ]
    },
    {
      "cell_type": "code",
      "source": [
        "#Q28. Write a code to create a list with strings and print the element at the third index.\n",
        "\n",
        "l = [\"aashish\",\"pw\",\"skills\",\"data\",\"analyst\"]\n",
        "\n",
        "print(l[3])"
      ],
      "metadata": {
        "colab": {
          "base_uri": "https://localhost:8080/"
        },
        "id": "hdimap-p4_d2",
        "outputId": "82c9a1dc-91b1-41ea-b8e2-3ac4f1c69a63"
      },
      "execution_count": 47,
      "outputs": [
        {
          "output_type": "stream",
          "name": "stdout",
          "text": [
            "data\n"
          ]
        }
      ]
    },
    {
      "cell_type": "code",
      "source": [
        "#Q29. Write a code to combine two dictionaries into one and print the result.\n",
        "\n",
        "dic1 = {\"name\":\"aashish\",\"age\":21,\"city\":\"indore\"}\n",
        "dic2 = {\"course\":\"data analyst\",\"institute\":\"pw skills\"}\n",
        "\n",
        "dic1.update(dic2)\n",
        "\n",
        "print(dic1)"
      ],
      "metadata": {
        "colab": {
          "base_uri": "https://localhost:8080/"
        },
        "id": "ysYZcxf45qeW",
        "outputId": "f0e9a873-3109-4917-b69d-08cbc308fe8a"
      },
      "execution_count": 48,
      "outputs": [
        {
          "output_type": "stream",
          "name": "stdout",
          "text": [
            "{'name': 'aashish', 'age': 21, 'city': 'indore', 'course': 'data analyst', 'institute': 'pw skills'}\n"
          ]
        }
      ]
    },
    {
      "cell_type": "code",
      "source": [
        "#Q30. Write a code to convert a list of strings into a set.\n",
        "\n",
        "lis = [\"aashish\",\"pw\",\"skills\",\"data\",\"analyst\"]\n",
        "\n",
        "sets = set(lis)\n",
        "print(sets)"
      ],
      "metadata": {
        "colab": {
          "base_uri": "https://localhost:8080/"
        },
        "id": "WAC9H8e66WkZ",
        "outputId": "f1f13eed-c916-4e9e-be75-fa070a643899"
      },
      "execution_count": 53,
      "outputs": [
        {
          "output_type": "stream",
          "name": "stdout",
          "text": [
            "{'skills', 'aashish', 'data', 'analyst', 'pw'}\n"
          ]
        }
      ]
    },
    {
      "cell_type": "code",
      "source": [],
      "metadata": {
        "id": "U5SQYtqP8CQQ"
      },
      "execution_count": null,
      "outputs": []
    }
  ]
}